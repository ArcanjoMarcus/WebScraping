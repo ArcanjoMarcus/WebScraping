{
 "cells": [
  {
   "cell_type": "markdown",
   "id": "0fd6e83f",
   "metadata": {},
   "source": [
    "## Web Scraping"
   ]
  },
  {
   "cell_type": "markdown",
   "id": "726ca7ef",
   "metadata": {},
   "source": [
    "1. Find the URL that you want to scrape\n",
    "2. Inspecting the Page\n",
    "3. Find the data you want to extract\n",
    "4. Write the code\n",
    "5. Run the code and extract the data\n",
    "6. Store the data in the required format "
   ]
  },
  {
   "cell_type": "markdown",
   "id": "0a63dcad",
   "metadata": {},
   "source": [
    "Hoje faremos um webscaping nos preços da página da kabum"
   ]
  },
  {
   "cell_type": "markdown",
   "id": "56a0ea91",
   "metadata": {},
   "source": [
    "## Bibliotecas necessárias"
   ]
  },
  {
   "cell_type": "markdown",
   "id": "9d25dc29",
   "metadata": {},
   "source": [
    "_selenium_ para o acesso às páginas na web\n"
   ]
  },
  {
   "cell_type": "markdown",
   "id": "f25724cc",
   "metadata": {},
   "source": [
    "_Beatiful Soup_ para inspeção do XML ou HTML\n"
   ]
  },
  {
   "cell_type": "markdown",
   "id": "4c55fe1e",
   "metadata": {},
   "source": [
    "_Pandas_ para o tratamente de dados"
   ]
  },
  {
   "cell_type": "code",
   "execution_count": 116,
   "id": "93f43098",
   "metadata": {},
   "outputs": [],
   "source": [
    "#Importando bibliotecas necessárias\n",
    "from selenium import webdriver\n",
    "from bs4 import BeautifulSoup as bs\n",
    "import pandas as pd"
   ]
  },
  {
   "cell_type": "markdown",
   "id": "a5f35464",
   "metadata": {},
   "source": [
    "### 1º URL"
   ]
  },
  {
   "cell_type": "markdown",
   "id": "72218c65",
   "metadata": {},
   "source": [
    "A url será da página inicial da Pichau https://www.pichau.com.br/"
   ]
  },
  {
   "cell_type": "code",
   "execution_count": 117,
   "id": "f8b1a8de",
   "metadata": {},
   "outputs": [],
   "source": [
    "url = 'https://www.pichau.com.br/'"
   ]
  },
  {
   "cell_type": "markdown",
   "id": "d226a6ba",
   "metadata": {},
   "source": [
    "### 2º  Que informação você deseja retirar?\n"
   ]
  },
  {
   "cell_type": "markdown",
   "id": "0904955b",
   "metadata": {},
   "source": [
    "A página tem muitas informações, o que pode gerar um excesso de dados desnecessários, então selecionamos o que desejamos retirar. No meu casos, como quero acompanhar o preço do produto, vou inspecionar o a página e encontrar onde está armazenada a informação que me é interessante, no meu caso, as informações que desejo, são o nome do produto, o preço e o link para a página individual dele"
   ]
  },
  {
   "cell_type": "markdown",
   "id": "8122edb3",
   "metadata": {},
   "source": [
    "Então, entre no modo inspeção do seu navegador e comece a ver dentro de quais div's e classes está a informação que deseja."
   ]
  },
  {
   "cell_type": "markdown",
   "id": "077be88e",
   "metadata": {},
   "source": [
    "## 3º Let's Code"
   ]
  },
  {
   "cell_type": "markdown",
   "id": "82804024",
   "metadata": {},
   "source": [
    "Começando pela configuração do driver que ira acessar a página."
   ]
  },
  {
   "cell_type": "code",
   "execution_count": 118,
   "id": "0846ff82",
   "metadata": {},
   "outputs": [],
   "source": [
    "driver = webdriver.Chrome(executable_path='C:/codes/chromedriver_win32/chromedriver')"
   ]
  },
  {
   "cell_type": "markdown",
   "id": "352bbbec",
   "metadata": {},
   "source": [
    "Nesse caso, estamos usando o chromedriver(pode ser baixado por aqui -> https://chromedriver.chromium.org/downloads)"
   ]
  },
  {
   "cell_type": "code",
   "execution_count": 119,
   "id": "07b799cc",
   "metadata": {},
   "outputs": [],
   "source": [
    "#preparando as variáveis que vão receber os valores\n",
    "produtos= []#array nome do produto\n",
    "precos= []#array precos\n",
    "links=[]#array dos links de cada produto\n",
    "driver.get(url)#driver acessando cada url\n"
   ]
  },
  {
   "cell_type": "markdown",
   "id": "a35259c2",
   "metadata": {},
   "source": [
    "Após preparar as variáveis vamos pegar o conteúdo bruto da página."
   ]
  },
  {
   "cell_type": "code",
   "execution_count": 125,
   "id": "841b0144",
   "metadata": {
    "scrolled": true
   },
   "outputs": [],
   "source": [
    "conteudo = driver.page_source\n"
   ]
  },
  {
   "cell_type": "markdown",
   "id": "490df2b1",
   "metadata": {},
   "source": [
    "Todo o código fonte da página está armazenado na variável conteúdo. Usaremos o *BeatifulSoup* para retirar desse conjunto de informações o que nos é necessário( sendo que as classes e div's das informções necessárias já foram reconhecidas)"
   ]
  },
  {
   "cell_type": "code",
   "execution_count": 121,
   "id": "ef4cfff3",
   "metadata": {},
   "outputs": [
    {
     "name": "stdout",
     "output_type": "stream",
     "text": [
      "/teclado-mecanico-tgt-spawn-ultimate-rainbow-switch-outemu-blue-tgt-spwult-blobo1\n",
      "/teclado-mecanico-tgt-spawn-tournament-edition-rainbow-switch-outemu-blue-tgt-spwtkl-blobo1\n",
      "/oculos-de-realidade-virtual-oculus-quest-2-64gb-301-00350-01\n",
      "/oculos-de-realidade-virtual-oculus-quest-2-256gb-301-00351-01\n",
      "/oculos-de-realidade-virtual-oculus-rift-s-301-00178-01\n",
      "/gabinete-gamer-nzxt-h1-mini-itx-com-fonte-650w-e-water-cooler-140mm-preto-ca-h16wr-b1-us\n",
      "/mousepad-trust-xxl-930x300x3mm-preto-t24194\n",
      "/microfone-condensador-blue-yeti-x-usb-988-000105\n",
      "/computador-mancer-amd-ryzen-2600-geforce-gtx-1050-ti-4gb-a320m-8gb-ddr4-hd-1tb-nidus-500w-sage-x-komor-rgb\n",
      "/monitor-gamer-asus-tuf-31-5-curvo-wqhd-1ms-165hz-hdr-freesync-premium-hdmi-dp-vg32vq1b\n",
      "/fechadura-digital-intelbras-fr-10-preto\n",
      "/fechadura-digital-touch-screen-intelbras-fr201-preto\n",
      "/ssd-team-group-mp33-256gb-m-2-nvme-pcie-tm8fp6256g0c101\n",
      "/teclado-mecanico-logitech-k835-tkl-compacto-switch-red-920-010086\n",
      "/mesa-digitalizadora-veikk-a30-preto-a30\n",
      "/water-cooler-cooler-master-masterliquid-ml360l-v2-argb-mlw-d36m-a18pa-r2\n",
      "/caixa-de-som-jbl-quantum-duo-rgb-bluetooth-20-wrms-jblquantumduoblkbr\n",
      "/microfone-trust-gxt-256-exxo-rgb-t23510\n",
      "/mouse-gamer-pichau-p702-rgb-12000dpi-preto-pgm-p702-rgb\n",
      "/ventoinha-cooler-master-masterfan-mf120-halo-120mm-argb-mfl-b2dn-18npa-r1\n",
      "/mouse-gamer-logitech-g-pro-wireless-16000dpi-rgb-910-005271\n",
      "/headset-gamer-multilaser-warrior-flamma-rgb-ph306\n",
      "/gabinete-gamer-pichau-seraph-e-rgb-lateral-vidro-temp-pgse-0e1-rgb\n",
      "/headset-gamer-logitech-pro-x-preto-981-000817\n",
      "/kit-teclado-e-mouse-cooler-master-ms111-rgb-ms-111-kkmf1-br\n",
      "/gabinete-gamer-dt3-sports-hyperspace-lateral-frontal-vidro-temp-preto-11862-8\n",
      "/gabinete-gamer-cougar-gemini-m-silver-385tmb0-0002\n",
      "/caixa-de-som-logitech-z607-5-1-surround-bluetooth-980-001321\n",
      "/mousepad-gamer-logitech-g240-cloth-340x280x1mm-943-000093\n"
     ]
    }
   ],
   "source": [
    "soup = bs(conteudo)#passando conteúdo para o soup\n",
    "for link in soup.findAll('a',attrs={'data-cy':'list-product'}):#encontrar todos os links da lista de produtos\n",
    "    print(link.get('href'))# pega o href de cada link\n",
    "    links.append(link.get('href'))#passa para o array links\n",
    "for a in soup.findAll('div',attrs={'class':'MuiCardContent-root'}):#encontra cada item produto \n",
    "    preco = a.find('div', attrs={'class': 'jss127'})#pega o preco\n",
    "    nome = a.find('h2', attrs={'class': 'MuiTypography-h6'})#pega o nome\n",
    "    produtos.append(nome.text)#adiciona o nome no array de produtos \n",
    "    \n",
    "    if(preco==None):#Como o preco pode estar indisponível, ao contrário do nome, trato essa exceção\n",
    "        \n",
    "        precos.append('NA')\n",
    "    else: \n",
    "        precos.append(preco.text)#adiciona o preco do produto no array de precos\n"
   ]
  },
  {
   "cell_type": "code",
   "execution_count": 123,
   "id": "276e8d32",
   "metadata": {},
   "outputs": [],
   "source": [
    "df = pd.DataFrame({'Nome Produto': produtos,'Preço': precos, 'Link': links})#Cria o DataFrame com os dados adquiridos\n",
    "df.to_csv('products.csv', index=False, encoding='utf-8')#cria um arquivo csv dos dados "
   ]
  },
  {
   "cell_type": "code",
   "execution_count": 124,
   "id": "3dfafcac",
   "metadata": {},
   "outputs": [
    {
     "data": {
      "text/html": [
       "<div>\n",
       "<style scoped>\n",
       "    .dataframe tbody tr th:only-of-type {\n",
       "        vertical-align: middle;\n",
       "    }\n",
       "\n",
       "    .dataframe tbody tr th {\n",
       "        vertical-align: top;\n",
       "    }\n",
       "\n",
       "    .dataframe thead th {\n",
       "        text-align: right;\n",
       "    }\n",
       "</style>\n",
       "<table border=\"1\" class=\"dataframe\">\n",
       "  <thead>\n",
       "    <tr style=\"text-align: right;\">\n",
       "      <th></th>\n",
       "      <th>Nome Produto</th>\n",
       "      <th>Preço</th>\n",
       "      <th>Link</th>\n",
       "    </tr>\n",
       "  </thead>\n",
       "  <tbody>\n",
       "    <tr>\n",
       "      <th>0</th>\n",
       "      <td>Teclado Mecanico TGT Spawn Ultimate Rainbow Sw...</td>\n",
       "      <td>R$219,90</td>\n",
       "      <td>/teclado-mecanico-tgt-spawn-ultimate-rainbow-s...</td>\n",
       "    </tr>\n",
       "    <tr>\n",
       "      <th>1</th>\n",
       "      <td>Teclado Mecanico TGT Spawn Tournament Edition ...</td>\n",
       "      <td>R$169,90</td>\n",
       "      <td>/teclado-mecanico-tgt-spawn-tournament-edition...</td>\n",
       "    </tr>\n",
       "    <tr>\n",
       "      <th>2</th>\n",
       "      <td>Oculos de Realidade Virtual Oculus Quest 2 64G...</td>\n",
       "      <td>R$4.900,03</td>\n",
       "      <td>/oculos-de-realidade-virtual-oculus-quest-2-64...</td>\n",
       "    </tr>\n",
       "    <tr>\n",
       "      <th>3</th>\n",
       "      <td>Oculos de Realidade Virtual Oculus Quest 2 256...</td>\n",
       "      <td>R$5.000,04</td>\n",
       "      <td>/oculos-de-realidade-virtual-oculus-quest-2-25...</td>\n",
       "    </tr>\n",
       "    <tr>\n",
       "      <th>4</th>\n",
       "      <td>Oculos de Realidade Virtual Oculus Rift S, 301...</td>\n",
       "      <td>R$7.200,11</td>\n",
       "      <td>/oculos-de-realidade-virtual-oculus-rift-s-301...</td>\n",
       "    </tr>\n",
       "    <tr>\n",
       "      <th>5</th>\n",
       "      <td>Gabinete Gamer NZXT H1 Mini-ITX com Fonte 650W...</td>\n",
       "      <td>R$3.729,91</td>\n",
       "      <td>/gabinete-gamer-nzxt-h1-mini-itx-com-fonte-650...</td>\n",
       "    </tr>\n",
       "    <tr>\n",
       "      <th>6</th>\n",
       "      <td>Mousepad Trust XXL 930x300x3mm Preto, T24194</td>\n",
       "      <td>R$59,00</td>\n",
       "      <td>/mousepad-trust-xxl-930x300x3mm-preto-t24194</td>\n",
       "    </tr>\n",
       "    <tr>\n",
       "      <th>7</th>\n",
       "      <td>Microfone Condensador Blue Yeti X USB, 988-000105</td>\n",
       "      <td>R$1.199,91</td>\n",
       "      <td>/microfone-condensador-blue-yeti-x-usb-988-000105</td>\n",
       "    </tr>\n",
       "    <tr>\n",
       "      <th>8</th>\n",
       "      <td>Computador Mancer, AMD Ryzen 2600, Geforce GTX...</td>\n",
       "      <td>R$5.333,46</td>\n",
       "      <td>/computador-mancer-amd-ryzen-2600-geforce-gtx-...</td>\n",
       "    </tr>\n",
       "    <tr>\n",
       "      <th>9</th>\n",
       "      <td>Monitor Gamer Asus Tuf 31,5'' Curvo WQHD 1ms 1...</td>\n",
       "      <td>R$2.999,09</td>\n",
       "      <td>/monitor-gamer-asus-tuf-31-5-curvo-wqhd-1ms-16...</td>\n",
       "    </tr>\n",
       "    <tr>\n",
       "      <th>10</th>\n",
       "      <td>Fechadura Digital Intelbras FR 10 Preto</td>\n",
       "      <td>R$322,90</td>\n",
       "      <td>/fechadura-digital-intelbras-fr-10-preto</td>\n",
       "    </tr>\n",
       "    <tr>\n",
       "      <th>11</th>\n",
       "      <td>Fechadura Digital Touch Screen Intelbras FR201...</td>\n",
       "      <td>R$744,50</td>\n",
       "      <td>/fechadura-digital-touch-screen-intelbras-fr20...</td>\n",
       "    </tr>\n",
       "    <tr>\n",
       "      <th>12</th>\n",
       "      <td>SSD Team Group MP33 256GB M.2 NVMe PCIe, TM8FP...</td>\n",
       "      <td>R$329,01</td>\n",
       "      <td>/ssd-team-group-mp33-256gb-m-2-nvme-pcie-tm8fp...</td>\n",
       "    </tr>\n",
       "    <tr>\n",
       "      <th>13</th>\n",
       "      <td>Teclado Mecanico Logitech K835 TKL Compacto Sw...</td>\n",
       "      <td>R$359,00</td>\n",
       "      <td>/teclado-mecanico-logitech-k835-tkl-compacto-s...</td>\n",
       "    </tr>\n",
       "    <tr>\n",
       "      <th>14</th>\n",
       "      <td>Mesa Digitalizadora Veikk A30 Preto, A30</td>\n",
       "      <td>R$499,90</td>\n",
       "      <td>/mesa-digitalizadora-veikk-a30-preto-a30</td>\n",
       "    </tr>\n",
       "    <tr>\n",
       "      <th>15</th>\n",
       "      <td>Water Cooler Cooler Master Masterliquid ML360L...</td>\n",
       "      <td>R$729,90</td>\n",
       "      <td>/water-cooler-cooler-master-masterliquid-ml360...</td>\n",
       "    </tr>\n",
       "    <tr>\n",
       "      <th>16</th>\n",
       "      <td>Caixa de Som JBL Quantum Duo RGB Bluetooth 20 ...</td>\n",
       "      <td>R$1.059,91</td>\n",
       "      <td>/caixa-de-som-jbl-quantum-duo-rgb-bluetooth-20...</td>\n",
       "    </tr>\n",
       "    <tr>\n",
       "      <th>17</th>\n",
       "      <td>Microfone Trust GXT 256 Exxo RGB, T23510</td>\n",
       "      <td>R$969,89</td>\n",
       "      <td>/microfone-trust-gxt-256-exxo-rgb-t23510</td>\n",
       "    </tr>\n",
       "    <tr>\n",
       "      <th>18</th>\n",
       "      <td>Mouse Gamer Pichau P702 RGB 12000DPI Preto, PG...</td>\n",
       "      <td>R$169,90</td>\n",
       "      <td>/mouse-gamer-pichau-p702-rgb-12000dpi-preto-pg...</td>\n",
       "    </tr>\n",
       "    <tr>\n",
       "      <th>19</th>\n",
       "      <td>Ventoinha Cooler Master Masterfan MF120 Halo 1...</td>\n",
       "      <td>R$89,90</td>\n",
       "      <td>/ventoinha-cooler-master-masterfan-mf120-halo-...</td>\n",
       "    </tr>\n",
       "    <tr>\n",
       "      <th>20</th>\n",
       "      <td>Mouse Gamer Logitech G Pro Wireless 16000DPI R...</td>\n",
       "      <td>R$569,91</td>\n",
       "      <td>/mouse-gamer-logitech-g-pro-wireless-16000dpi-...</td>\n",
       "    </tr>\n",
       "    <tr>\n",
       "      <th>21</th>\n",
       "      <td>Headset Gamer Multilaser Warrior Flamma RGB, P...</td>\n",
       "      <td>R$139,90</td>\n",
       "      <td>/headset-gamer-multilaser-warrior-flamma-rgb-p...</td>\n",
       "    </tr>\n",
       "    <tr>\n",
       "      <th>22</th>\n",
       "      <td>Gabinete Gamer Pichau Seraph E RGB Lateral Vid...</td>\n",
       "      <td>R$569,90</td>\n",
       "      <td>/gabinete-gamer-pichau-seraph-e-rgb-lateral-vi...</td>\n",
       "    </tr>\n",
       "    <tr>\n",
       "      <th>23</th>\n",
       "      <td>Headset Gamer Logitech Pro X Preto, 981-000817</td>\n",
       "      <td>R$779,00</td>\n",
       "      <td>/headset-gamer-logitech-pro-x-preto-981-000817</td>\n",
       "    </tr>\n",
       "    <tr>\n",
       "      <th>24</th>\n",
       "      <td>Kit Teclado e Mouse Cooler Master MS111 RGB, M...</td>\n",
       "      <td>R$269,90</td>\n",
       "      <td>/kit-teclado-e-mouse-cooler-master-ms111-rgb-m...</td>\n",
       "    </tr>\n",
       "    <tr>\n",
       "      <th>25</th>\n",
       "      <td>Gabinete Gamer DT3 Sports Hyperspace Lateral/F...</td>\n",
       "      <td>R$799,90</td>\n",
       "      <td>/gabinete-gamer-dt3-sports-hyperspace-lateral-...</td>\n",
       "    </tr>\n",
       "    <tr>\n",
       "      <th>26</th>\n",
       "      <td>Gabinete Gamer Cougar Gemini M Silver, 385TMB0...</td>\n",
       "      <td>R$337,50</td>\n",
       "      <td>/gabinete-gamer-cougar-gemini-m-silver-385tmb0...</td>\n",
       "    </tr>\n",
       "    <tr>\n",
       "      <th>27</th>\n",
       "      <td>Caixa de Som Logitech Z607 5.1 Surround  Bluet...</td>\n",
       "      <td>R$819,90</td>\n",
       "      <td>/caixa-de-som-logitech-z607-5-1-surround-bluet...</td>\n",
       "    </tr>\n",
       "    <tr>\n",
       "      <th>28</th>\n",
       "      <td>Mousepad Gamer Logitech G240 Cloth 340x280x1mm...</td>\n",
       "      <td>R$69,90</td>\n",
       "      <td>/mousepad-gamer-logitech-g240-cloth-340x280x1m...</td>\n",
       "    </tr>\n",
       "  </tbody>\n",
       "</table>\n",
       "</div>"
      ],
      "text/plain": [
       "                                         Nome Produto       Preço  \\\n",
       "0   Teclado Mecanico TGT Spawn Ultimate Rainbow Sw...    R$219,90   \n",
       "1   Teclado Mecanico TGT Spawn Tournament Edition ...    R$169,90   \n",
       "2   Oculos de Realidade Virtual Oculus Quest 2 64G...  R$4.900,03   \n",
       "3   Oculos de Realidade Virtual Oculus Quest 2 256...  R$5.000,04   \n",
       "4   Oculos de Realidade Virtual Oculus Rift S, 301...  R$7.200,11   \n",
       "5   Gabinete Gamer NZXT H1 Mini-ITX com Fonte 650W...  R$3.729,91   \n",
       "6        Mousepad Trust XXL 930x300x3mm Preto, T24194     R$59,00   \n",
       "7   Microfone Condensador Blue Yeti X USB, 988-000105  R$1.199,91   \n",
       "8   Computador Mancer, AMD Ryzen 2600, Geforce GTX...  R$5.333,46   \n",
       "9   Monitor Gamer Asus Tuf 31,5'' Curvo WQHD 1ms 1...  R$2.999,09   \n",
       "10            Fechadura Digital Intelbras FR 10 Preto    R$322,90   \n",
       "11  Fechadura Digital Touch Screen Intelbras FR201...    R$744,50   \n",
       "12  SSD Team Group MP33 256GB M.2 NVMe PCIe, TM8FP...    R$329,01   \n",
       "13  Teclado Mecanico Logitech K835 TKL Compacto Sw...    R$359,00   \n",
       "14           Mesa Digitalizadora Veikk A30 Preto, A30    R$499,90   \n",
       "15  Water Cooler Cooler Master Masterliquid ML360L...    R$729,90   \n",
       "16  Caixa de Som JBL Quantum Duo RGB Bluetooth 20 ...  R$1.059,91   \n",
       "17           Microfone Trust GXT 256 Exxo RGB, T23510    R$969,89   \n",
       "18  Mouse Gamer Pichau P702 RGB 12000DPI Preto, PG...    R$169,90   \n",
       "19  Ventoinha Cooler Master Masterfan MF120 Halo 1...     R$89,90   \n",
       "20  Mouse Gamer Logitech G Pro Wireless 16000DPI R...    R$569,91   \n",
       "21  Headset Gamer Multilaser Warrior Flamma RGB, P...    R$139,90   \n",
       "22  Gabinete Gamer Pichau Seraph E RGB Lateral Vid...    R$569,90   \n",
       "23     Headset Gamer Logitech Pro X Preto, 981-000817    R$779,00   \n",
       "24  Kit Teclado e Mouse Cooler Master MS111 RGB, M...    R$269,90   \n",
       "25  Gabinete Gamer DT3 Sports Hyperspace Lateral/F...    R$799,90   \n",
       "26  Gabinete Gamer Cougar Gemini M Silver, 385TMB0...    R$337,50   \n",
       "27  Caixa de Som Logitech Z607 5.1 Surround  Bluet...    R$819,90   \n",
       "28  Mousepad Gamer Logitech G240 Cloth 340x280x1mm...     R$69,90   \n",
       "\n",
       "                                                 Link  \n",
       "0   /teclado-mecanico-tgt-spawn-ultimate-rainbow-s...  \n",
       "1   /teclado-mecanico-tgt-spawn-tournament-edition...  \n",
       "2   /oculos-de-realidade-virtual-oculus-quest-2-64...  \n",
       "3   /oculos-de-realidade-virtual-oculus-quest-2-25...  \n",
       "4   /oculos-de-realidade-virtual-oculus-rift-s-301...  \n",
       "5   /gabinete-gamer-nzxt-h1-mini-itx-com-fonte-650...  \n",
       "6        /mousepad-trust-xxl-930x300x3mm-preto-t24194  \n",
       "7   /microfone-condensador-blue-yeti-x-usb-988-000105  \n",
       "8   /computador-mancer-amd-ryzen-2600-geforce-gtx-...  \n",
       "9   /monitor-gamer-asus-tuf-31-5-curvo-wqhd-1ms-16...  \n",
       "10           /fechadura-digital-intelbras-fr-10-preto  \n",
       "11  /fechadura-digital-touch-screen-intelbras-fr20...  \n",
       "12  /ssd-team-group-mp33-256gb-m-2-nvme-pcie-tm8fp...  \n",
       "13  /teclado-mecanico-logitech-k835-tkl-compacto-s...  \n",
       "14           /mesa-digitalizadora-veikk-a30-preto-a30  \n",
       "15  /water-cooler-cooler-master-masterliquid-ml360...  \n",
       "16  /caixa-de-som-jbl-quantum-duo-rgb-bluetooth-20...  \n",
       "17           /microfone-trust-gxt-256-exxo-rgb-t23510  \n",
       "18  /mouse-gamer-pichau-p702-rgb-12000dpi-preto-pg...  \n",
       "19  /ventoinha-cooler-master-masterfan-mf120-halo-...  \n",
       "20  /mouse-gamer-logitech-g-pro-wireless-16000dpi-...  \n",
       "21  /headset-gamer-multilaser-warrior-flamma-rgb-p...  \n",
       "22  /gabinete-gamer-pichau-seraph-e-rgb-lateral-vi...  \n",
       "23     /headset-gamer-logitech-pro-x-preto-981-000817  \n",
       "24  /kit-teclado-e-mouse-cooler-master-ms111-rgb-m...  \n",
       "25  /gabinete-gamer-dt3-sports-hyperspace-lateral-...  \n",
       "26  /gabinete-gamer-cougar-gemini-m-silver-385tmb0...  \n",
       "27  /caixa-de-som-logitech-z607-5-1-surround-bluet...  \n",
       "28  /mousepad-gamer-logitech-g240-cloth-340x280x1m...  "
      ]
     },
     "execution_count": 124,
     "metadata": {},
     "output_type": "execute_result"
    }
   ],
   "source": [
    "df"
   ]
  },
  {
   "cell_type": "code",
   "execution_count": null,
   "id": "0187e534",
   "metadata": {},
   "outputs": [],
   "source": []
  }
 ],
 "metadata": {
  "kernelspec": {
   "display_name": "Python 3",
   "language": "python",
   "name": "python3"
  },
  "language_info": {
   "codemirror_mode": {
    "name": "ipython",
    "version": 3
   },
   "file_extension": ".py",
   "mimetype": "text/x-python",
   "name": "python",
   "nbconvert_exporter": "python",
   "pygments_lexer": "ipython3",
   "version": "3.8.8"
  }
 },
 "nbformat": 4,
 "nbformat_minor": 5
}
